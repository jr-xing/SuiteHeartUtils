{
 "cells": [
  {
   "cell_type": "code",
   "execution_count": 1,
   "metadata": {},
   "outputs": [
    {
     "name": "stdout",
     "output_type": "stream",
     "text": [
      "c:\\Users\\remus\\Documents\\Development\\SuiteHeartUtils\n"
     ]
    }
   ],
   "source": [
    "%load_ext autoreload\n",
    "%autoreload 2\n",
    "%cd ..\n",
    "from pathlib import Path\n",
    "from utils.loadmat import loadmat\n",
    "from utils.check_dict import check_dict"
   ]
  },
  {
   "cell_type": "code",
   "execution_count": 23,
   "metadata": {},
   "outputs": [
    {
     "name": "stdout",
     "output_type": "stream",
     "text": [
      "__header__                               b'MATLAB 5.0 MAT-file Platform: posix, Created on: Mon Mar  4 15:40:49 2024'\n",
      "__version__                              1.0                 \n",
      "__globals__                              []\n",
      "patient_name                             Carter, Rita        \n",
      "series_name                              trufi_cine_sa_p2    \n",
      "series_number                            8                   \n",
      "series_uid                               1.3.12.2.1107.5.2.30.25360.2008081513433480642409603.0.0.0\n",
      "series_type                              Function            \n",
      "zero_based                               1                   \n",
      "phase_number                             20                  \n",
      "slice_number                             1                   \n",
      "lv_endo                                  list: (20)\n",
      "lv_epi                                   list: (20)\n",
      "lv_papillary                             list: (20)\n",
      "mv_annulus                               list: (20)\n",
      "rv_endo                                  list: (20)\n",
      "rv_epi                                   list: (20)\n",
      "rv_papillary                             list: (20)\n",
      "tv_annulus                               list: (20)\n",
      "rv_insertion                             list: (20)\n",
      "anterior_rv_insertion                    list: (20)\n",
      "raw_image                                list: (20)\n",
      "uid                                      list: (20)\n",
      "trigger_time                             list: (20)\n",
      "pixel_size                               list: (20)\n",
      "orientation                              list: (20)\n",
      "slice_thickness                          list: (20)\n",
      "space_between_slice                      list: (20)\n",
      "image_position                           list: (20)\n",
      "dicom_tag_array                          list: (20)\n"
     ]
    }
   ],
   "source": [
    "# cine_mat_fname = Path('./debug_data/all_AUTO_FUNCTION_1_102.mat')\n",
    "cine_mat_fname = Path('./debug_data/trufi_cine_sa_p2_8.mat')\n",
    "cine_mat = loadmat(cine_mat_fname)\n",
    "check_dict(cine_mat)"
   ]
  },
  {
   "cell_type": "code",
   "execution_count": 24,
   "metadata": {},
   "outputs": [],
   "source": [
    "from utils.suiteHeart_utils import list_to_2D_ndarray\n",
    "# if isinstance(cine_mat['pixel_size'], list):\n",
    "#     cine_mat['pixel_size'] = list_to_2D_ndarray(cine_mat['pixel_size'])\n",
    "# cine_mat['pixel_size'] = list_to_2D_ndarray(cine_mat['pixel_size'])\n",
    "# if isinstance(cine_mat['lv_endo'], list):\n",
    "#     n_frames = len(cine_mat['lv_endo'])\n",
    "#     for key, value in cine_mat.items():\n",
    "#         if isinstance(value, list):\n",
    "#             cine_mat[key] = list_to_2D_ndarray(cine_mat['pixel_size'])\n",
    "#     check_dict(cine_mat)"
   ]
  },
  {
   "cell_type": "code",
   "execution_count": 25,
   "metadata": {},
   "outputs": [],
   "source": [
    "# Set switches\n",
    "# target_pixel_resolution = '1x1' # 'ori' or '1x1' or arbitary float number; for the steamlit app, add additional options 'load from DENSE .mat'\n",
    "target_pixel_resolution = 3 # 'ori' or '1x1' or arbitary float number; for the steamlit app, add additional options 'load from DENSE .mat'\n",
    "# target_image_shape = (128,128)\n",
    "target_image_shape = (48,48)"
   ]
  },
  {
   "cell_type": "code",
   "execution_count": 26,
   "metadata": {},
   "outputs": [],
   "source": [
    "# cine_mat_pixel_spacing = cine_mat['pixel_size'][0,0][0]"
   ]
  },
  {
   "cell_type": "code",
   "execution_count": 27,
   "metadata": {},
   "outputs": [],
   "source": [
    "from utils.suiteHeart_utils import get_SuiteHeart_dict_myocardium_rescaled_contours_and_masks, get_SuiteHeart_dict_resized_and_cropped_images\n",
    "from utils.suiteHeart_utils import get_SuiteHeart_dict_myocardium_masks, get_SuiteHeart_dict_cropped_images\n",
    "# if type(cine_mat['raw_image']) is list:\n",
    "#     # list_to_2D_ndarray\n",
    "#     n_frames = len(cine_mat['raw_image'])\n",
    "#     n_slices = 1\n",
    "#     raw_image_shape = cine_mat['raw_image'][0].shape\n",
    "# else:\n",
    "#     n_frames, n_slices = cine_mat['raw_image'].shape\n",
    "#     raw_image_shape = cine_mat['raw_image'][0,0].shape\n",
    "\n",
    "# # cine_cropped_myocardium_masks_ori, cine_cropped_myocardium_masks_ori_bbox = \\\n",
    "# _, _, cine_cropped_myocardium_masks_ori, cine_cropped_myocardium_masks_ori_bbox, _ = \\\n",
    "#     get_SuiteHeart_dict_myocardium_masks(\n",
    "#         cine_mat, \n",
    "#         ori_image_shape = raw_image_shape, \n",
    "#         target_image_shape = target_image_shape, \n",
    "#         centering = False, \n",
    "#         check_slice_indices = None)\n",
    "# cine_cropped_images_ori, cine_cropped_images_ori_bbox = \\\n",
    "#     get_SuiteHeart_dict_cropped_images(\n",
    "#         cine_mat, \n",
    "#         target_image_shape = target_image_shape)\n",
    "\n",
    "# cine_lv_endo_contours_rescaled_all, cine_lv_epi_contours_rescaled_all, cine_myo_masks_rescaled_all, cine_insertion_points_rescaled_all = \\\n",
    "#     get_SuiteHeart_dict_myocardium_rescaled_contours_and_masks(\n",
    "#         cine_mat, \n",
    "#         target_image_shape = target_image_shape, \n",
    "#         centering = False, \n",
    "#         check_slice_indices = None)\n",
    "# cine_cropped_images_rescaled = \\\n",
    "#     get_SuiteHeart_dict_resized_and_cropped_images(\n",
    "#         cine_mat, \n",
    "#         target_image_shape = target_image_shape)"
   ]
  },
  {
   "cell_type": "code",
   "execution_count": 28,
   "metadata": {},
   "outputs": [],
   "source": [
    "# cine_lv_endo_contours_ori_all, cine_lv_epi_contours_ori_all, cine_cropped_myocardium_masks_ori_all, cine_cropped_myocardium_masks_ori_bbox_all, cine_rv_insertion_points_cropped_all  = \\\n",
    "#     get_SuiteHeart_dict_myocardium_masks(\n",
    "#         cine_mat, \n",
    "#         ori_image_shape=cine_mat['raw_image'][0,0].shape, \n",
    "#         target_image_shape=target_image_shape, \n",
    "#         centering=False, \n",
    "#         check_slice_indices=None)\n",
    "# cine_cropped_images_ori, cine_cropped_images_ori_bbox = \\\n",
    "#     get_SuiteHeart_dict_cropped_images(\n",
    "#         cine_mat, \n",
    "#         target_image_shape=target_image_shape)\n",
    "\n",
    "# cine_lv_endo_contours_rescaled_all, cine_lv_epi_contours_rescaled_all, cine_myo_masks_rescaled_all, cine_rv_insertion_points_rescaled_all = \\\n",
    "#     get_SuiteHeart_dict_myocardium_rescaled_contours_and_masks(\n",
    "#         cine_mat, \n",
    "#         target_image_shape=target_image_shape, \n",
    "#         centering=False, \n",
    "#         check_slice_indices=None)\n",
    "# cine_cropped_images_rescaled = \\\n",
    "#     get_SuiteHeart_dict_resized_and_cropped_images(\n",
    "#         cine_mat, \n",
    "#         target_image_shape=target_image_shape)\n",
    "\n",
    "# cine_lv_endo_contours_rescaled_fill_all, cine_lv_epi_contours_rescaled_fill_all, cine_myo_masks_rescaled_fill_all, cine_rv_insertion_points_rescaled_fill_all = \\\n",
    "#     get_SuiteHeart_dict_myocardium_rescaled_contours_and_masks(cine_mat_datum, target_image_shape=(128, 128), centering=False, check_slice_indices=None, rescale_method='fill', rescale_fill_ratio=fill_ratio)\n",
    "# cine_cropped_images_rescaled_fill = get_SuiteHeart_dict_resized_and_cropped_images(cine_mat_datum, target_image_shape=(128, 128), rescale_method='fill', rescale_fill_ratio=fill_ratio)\n",
    "# cine_lv_endo_contours_rescaled_DENSE48_all, cine_lv_epi_contours_rescaled_DENSE48_all, cine_myo_masks_rescaled_DENSE48_all, cine_rv_insertion_points_rescaled_DENSE48_all = \\\n",
    "#     get_SuiteHeart_dict_myocardium_rescaled_contours_and_masks(\n",
    "#         cine_mat, \n",
    "#         target_image_shape=(48, 48), \n",
    "#         centering=False, \n",
    "#         check_slice_indices=None, \n",
    "#         rescale_method='rescale', \n",
    "#         rescale_ratio=cine_mat_pixel_spacing/subject_DENSE_pixel_spacing)\n",
    "# cine_cropped_images_rescaled_DENSE48 = \\\n",
    "#     get_SuiteHeart_dict_resized_and_cropped_images(\n",
    "#         cine_mat, \n",
    "#         target_image_shape=(48, 48), \n",
    "#         rescale_method='rescale', \n",
    "#         rescale_ratio=cine_mat_pixel_spacing/subject_DENSE_pixel_spacing)"
   ]
  },
  {
   "cell_type": "code",
   "execution_count": 29,
   "metadata": {},
   "outputs": [],
   "source": [
    "if isinstance(target_pixel_resolution, str) and target_pixel_resolution == 'ori':\n",
    "    cine_lv_endo_contours_all, cine_lv_epi_contours_all, cine_myo_masks_all, cine_myocardium_masks_bbox_all, cine_rv_insertion_points_all  = \\\n",
    "        get_SuiteHeart_dict_myocardium_masks(\n",
    "            cine_mat, \n",
    "            ori_image_shape=cine_mat['raw_image'][0,0].shape if isinstance(cine_mat['raw_image'], np.ndarray) else cine_mat['raw_image'][0].shape,\n",
    "            target_image_shape=target_image_shape, \n",
    "            centering=False, \n",
    "            check_slice_indices=None,\n",
    "            force_keep_slice_dim=True)\n",
    "    cine_cropped_images, cine_cropped_images_bbox = \\\n",
    "        get_SuiteHeart_dict_cropped_images(\n",
    "            cine_mat, \n",
    "            target_image_shape=target_image_shape,\n",
    "            force_keep_slice_dim=True)\n",
    "elif isinstance(target_pixel_resolution, str) and target_pixel_resolution == '1x1':\n",
    "    cine_lv_endo_contours_all, cine_lv_epi_contours_all, cine_myo_masks_all, cine_rv_insertion_points_all  = \\\n",
    "        get_SuiteHeart_dict_myocardium_rescaled_contours_and_masks(\n",
    "            cine_mat, \n",
    "            target_image_shape=target_image_shape, \n",
    "            centering=False, \n",
    "            check_slice_indices=None,\n",
    "            force_keep_slice_dim=True)\n",
    "    # cine_cropped_images, cine_cropped_images_bbox = \\\n",
    "    cine_cropped_images = \\\n",
    "        get_SuiteHeart_dict_resized_and_cropped_images(\n",
    "            cine_mat, \n",
    "            target_image_shape=target_image_shape,\n",
    "            force_keep_slice_dim=True)\n",
    "elif isinstance(target_pixel_resolution, float) or isinstance(target_pixel_resolution, int):\n",
    "    if isinstance(cine_mat['pixel_size'], list):\n",
    "        cine_mat_pixel_spacing = cine_mat['pixel_size'][0][0]\n",
    "    else:\n",
    "        cine_mat_pixel_spacing = cine_mat['pixel_size'][0,0][0]\n",
    "    cine_lv_endo_contours_all, cine_lv_epi_contours_all, cine_myo_masks_all, cine_rv_insertion_points_all  = \\\n",
    "        get_SuiteHeart_dict_myocardium_rescaled_contours_and_masks(\n",
    "            cine_mat, \n",
    "            target_image_shape=target_image_shape, \n",
    "            centering=False, \n",
    "            check_slice_indices=None, \n",
    "            rescale_method='rescale', \n",
    "            rescale_ratio=cine_mat_pixel_spacing/target_pixel_resolution,\n",
    "            force_keep_slice_dim=True)    \n",
    "    # cine_cropped_images, cine_cropped_images_bbox = \\\n",
    "    cine_cropped_images = \\\n",
    "        get_SuiteHeart_dict_resized_and_cropped_images(\n",
    "            cine_mat, \n",
    "            target_image_shape=target_image_shape, \n",
    "            rescale_method='rescale', \n",
    "            rescale_ratio=cine_mat_pixel_spacing/target_pixel_resolution,\n",
    "            force_keep_slice_dim=True)\n",
    "else:\n",
    "    raise ValueError('Invalid target_pixel_resolution')"
   ]
  },
  {
   "cell_type": "code",
   "execution_count": 30,
   "metadata": {},
   "outputs": [],
   "source": [
    "import numpy as np\n",
    "cine_valid_slice_indices = np.where(np.array([np.sum(cine_myo_masks_all[slice_idx]) for slice_idx in range(len(cine_myo_masks_all))]) > 0)[0]\n",
    "\n",
    "cine_slices = []\n",
    "for cine_slice_idx in cine_valid_slice_indices:\n",
    "    cine_slice = {\n",
    "        'patient_name': cine_mat['patient_name'],\n",
    "        'cine_slice_idx': cine_slice_idx,\n",
    "        'cine_slice_name': f'{cine_mat[\"patient_name\"]}-{cine_slice_idx}',\n",
    "        'cine_slice_mat_filename': str(cine_mat_fname),\n",
    "        'cine_slice_has_contour': True,\n",
    "    }\n",
    "    cine_slice['cine_lv_epi_contour'] = cine_lv_epi_contours_all[:, cine_slice_idx]\n",
    "    cine_slice['cine_lv_endo_contour'] = cine_lv_endo_contours_all[:, cine_slice_idx]\n",
    "\n",
    "    cine_slice['cine_cropped_images'] = cine_cropped_images[cine_slice_idx]\n",
    "    # cine_slice['cine_cropped_images_bbox'] = cine_cropped_images_bbox[cine_slice_idx]\n",
    "\n",
    "    cine_slice['cine_cropped_myocardium_masks'] = cine_myo_masks_all[cine_slice_idx]            \n",
    "    # cine_slice['cine_cropped_myocardium_masks_bbox'] = cine_myocardium_masks_bbox_all[cine_slice_idx]\n",
    "\n",
    "    cine_slice['cine_rv_insertion_points'] = cine_rv_insertion_points_all[cine_slice_idx]\n",
    "\n",
    "    if 'trigger_time' in cine_mat.keys():\n",
    "        if isinstance(cine_mat['trigger_time'], list):\n",
    "            cine_slice['cine_frame_time_stamps'] = np.array(cine_mat['trigger_time'])\n",
    "        else:\n",
    "            cine_slice['cine_frame_time_stamps'] = cine_mat['trigger_time'][:,cine_slice_idx]\n",
    "\n",
    "    cine_slices.append(cine_slice)"
   ]
  },
  {
   "cell_type": "code",
   "execution_count": 31,
   "metadata": {},
   "outputs": [
    {
     "data": {
      "text/plain": [
       "(20, 1)"
      ]
     },
     "execution_count": 31,
     "metadata": {},
     "output_type": "execute_result"
    }
   ],
   "source": [
    "cine_lv_epi_contours_all.shape"
   ]
  },
  {
   "cell_type": "code",
   "execution_count": 32,
   "metadata": {},
   "outputs": [
    {
     "data": {
      "text/plain": [
       "1"
      ]
     },
     "execution_count": 32,
     "metadata": {},
     "output_type": "execute_result"
    }
   ],
   "source": [
    "len(cine_cropped_images)"
   ]
  },
  {
   "cell_type": "code",
   "execution_count": 33,
   "metadata": {},
   "outputs": [
    {
     "data": {
      "text/plain": [
       "Text(0.5, 1.0, 'cine_cropped_images')"
      ]
     },
     "execution_count": 33,
     "metadata": {},
     "output_type": "execute_result"
    },
    {
     "data": {
      "image/png": "[encoded data removed]",
      "text/plain": [
       "<Figure size 1200x400 with 3 Axes>"
      ]
     },
     "metadata": {},
     "output_type": "display_data"
    }
   ],
   "source": [
    "check_slice_idx = 0\n",
    "check_frame_idx = 10\n",
    "\n",
    "import matplotlib.pyplot as plt\n",
    "fig, axs = plt.subplots(1, 3, figsize=(12, 4))\n",
    "\n",
    "vis_lv_epi_contour = cine_slices[check_slice_idx]['cine_lv_epi_contour'][check_frame_idx]# - np.array([cine_slices[check_slice_idx]['cine_cropped_myocardium_masks_bbox'][2], cine_slices[check_slice_idx]['cine_cropped_myocardium_masks_bbox'][0]])\n",
    "vis_lv_endo_contour = cine_slices[check_slice_idx]['cine_lv_endo_contour'][check_frame_idx]# - np.array([cine_slices[check_slice_idx]['cine_cropped_myocardium_masks_bbox'][2], cine_slices[check_slice_idx]['cine_cropped_myocardium_masks_bbox'][0]])\n",
    "vis_rv_insertion_point = cine_slices[check_slice_idx]['cine_rv_insertion_points']#[check_frame_idx]\n",
    "\n",
    "axs[0].imshow(cine_slices[check_slice_idx]['cine_cropped_images'][..., check_frame_idx], cmap='gray')\n",
    "axs[0].set_title('cine_cropped_images')\n",
    "axs[0].plot(vis_lv_epi_contour[:,0], vis_lv_epi_contour[:,1], 'b')\n",
    "axs[0].plot(vis_lv_endo_contour[:,0], vis_lv_endo_contour[:,1], 'r')\n",
    "axs[0].plot(vis_rv_insertion_point[0], vis_rv_insertion_point[1], 'rx')\n",
    "axs[1].imshow(cine_slices[check_slice_idx]['cine_cropped_myocardium_masks'][..., check_frame_idx], cmap='gray')\n",
    "axs[1].set_title('cine_cropped_myocardium_masks')\n",
    "axs[2].imshow(cine_slices[check_slice_idx]['cine_cropped_images'][..., check_frame_idx], cmap='gray')\n",
    "axs[2].imshow(cine_slices[check_slice_idx]['cine_cropped_myocardium_masks'][..., check_frame_idx], cmap='gray', alpha=0.5)\n",
    "axs[2].set_title('cine_cropped_images')"
   ]
  },
  {
   "cell_type": "code",
   "execution_count": 38,
   "metadata": {},
   "outputs": [
    {
     "data": {
      "text/plain": [
       "(48, 48, 20)"
      ]
     },
     "execution_count": 38,
     "metadata": {},
     "output_type": "execute_result"
    }
   ],
   "source": [
    "cine_slices[check_slice_idx]['cine_cropped_myocardium_masks'].shape"
   ]
  }
 ],
 "metadata": {
  "kernelspec": {
   "display_name": "suiteheart-streamlit",
   "language": "python",
   "name": "python3"
  },
  "language_info": {
   "codemirror_mode": {
    "name": "ipython",
    "version": 3
   },
   "file_extension": ".py",
   "mimetype": "text/x-python",
   "name": "python",
   "nbconvert_exporter": "python",
   "pygments_lexer": "ipython3",
   "version": "3.10.14"
  }
 },
 "nbformat": 4,
 "nbformat_minor": 2
}
